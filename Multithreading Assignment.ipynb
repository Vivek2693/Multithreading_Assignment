{
 "cells": [
  {
   "cell_type": "markdown",
   "id": "1ce8c0bc-a8e5-4cd4-8f21-4a5872cb91db",
   "metadata": {},
   "source": [
    "1). what is multithreading in python? hy is it used? Name the module used to handle threads in python"
   ]
  },
  {
   "cell_type": "markdown",
   "id": "4896229e-4a85-4389-a17d-b5e139cdde53",
   "metadata": {},
   "source": [
    "Multithreading in Python refers to the concurrent execution of multiple threads within a single process. A thread is a separate flow of execution that can run independently, sharing the same memory space. Python's multithreading allows developers to perform concurrent operations, where different parts of the program execute simultaneously.\n",
    "\n",
    "Multithreading is used to achieve concurrent execution and improve the performance of certain types of applications. By utilizing multiple threads, developers can take advantage of parallelism, allowing the program to execute multiple tasks concurrently and potentially reduce the overall execution time.\n",
    "\n",
    "However, it's important to note that Python's multithreading implementation has a limitation due to the Global Interpreter Lock (GIL), which ensures that only one thread executes Python bytecode at a time. This means that in Python, multithreading is suitable for tasks that are I/O-bound, such as network requests or file operations, rather than CPU-bound tasks.\n",
    "\n",
    "The module used to handle threads in Python is called \"threading.\" It provides a high-level interface for creating and managing threads. The \"threading\" module allows developers to create thread objects, start and stop threads, and synchronize their execution using various mechanisms such as locks, conditions, and semaphores."
   ]
  },
  {
   "cell_type": "markdown",
   "id": "83859001-ddd0-4dbf-9668-2929fa9076fa",
   "metadata": {},
   "source": [
    "2) why threading module used? rite the use of the following functions\n",
    "( activeCount\n",
    " currentThread\n",
    " enumerate)"
   ]
  },
  {
   "cell_type": "markdown",
   "id": "5c4609b3-eedc-4473-a2f9-7ac5f0815ccb",
   "metadata": {},
   "source": [
    "The \"threading\" module is used in Python to handle threads and provide a high-level interface for working with them. It offers functions and classes that enable the creation, management, and synchronization of threads within a Python program.\n",
    "\n",
    "Here are the descriptions and use cases for the functions you mentioned:\n",
    "\n",
    "1. `activeCount()`: This function returns the number of Thread objects currently alive. It provides the count of all threads that are currently running or in a \"sleeping\" or \"blocked\" state. This function is useful to get an overview of the active threads in a program and can be used for monitoring and debugging purposes.\n",
    "\n",
    "   Example usage:\n",
    "   ```python\n",
    "   import threading\n",
    "\n",
    "   print(threading.activeCount())  # Print the number of active threads\n",
    "   ```\n",
    "\n",
    "2. `currentThread()`: This function returns the Thread object corresponding to the current thread. It is useful when you want to obtain information about the currently executing thread, such as its name, ID, or other attributes.\n",
    "\n",
    "   Example usage:\n",
    "   ```python\n",
    "   import threading\n",
    "\n",
    "   current_thread = threading.currentThread()\n",
    "   print(current_thread.getName())  # Print the name of the current thread\n",
    "   ```\n",
    "\n",
    "3. `enumerate()`: This function returns a list of all Thread objects currently alive. It provides a way to obtain a list of all active threads, similar to `activeCount()`, but instead of just returning the count, it returns a list of actual Thread objects.\n",
    "\n",
    "   Example usage:\n",
    "   ```python\n",
    "   import threading\n",
    "\n",
    "   thread_list = threading.enumerate()\n",
    "   for thread in thread_list:\n",
    "       print(thread.getName())  # Print the name of each active thread\n",
    "   ```\n",
    "\n",
    "These functions are useful for managing and monitoring threads in a Python program, allowing you to gather information about active threads and perform actions based on that information."
   ]
  },
  {
   "cell_type": "markdown",
   "id": "44ac18dd-b59c-4b76-84a4-ea65f48dbc3f",
   "metadata": {},
   "source": [
    "3. Explain the following functions\n",
    "( run\n",
    " start\n",
    " join\n",
    "' isAlive)"
   ]
  },
  {
   "cell_type": "markdown",
   "id": "1596964d-463e-46a9-9d8c-ced954d9f82e",
   "metadata": {},
   "source": [
    "Sure! Here are explanations of the functions you mentioned:\n",
    "\n",
    "1. `run()`: The `run()` method is the entry point for the thread's activity. It is called automatically when you start a thread using the `start()` method. You can override this method in a subclass of the `Thread` class to define the specific actions or tasks that the thread should perform. The `run()` method contains the code that will be executed in a separate thread.\n",
    "\n",
    "   Example usage:\n",
    "   ```python\n",
    "   import threading\n",
    "\n",
    "   class MyThread(threading.Thread):\n",
    "       def run(self):\n",
    "           # Perform specific actions or tasks here\n",
    "           print(\"Thread is running\")\n",
    "\n",
    "   # Create an instance of the custom thread class\n",
    "   my_thread = MyThread()\n",
    "   # Start the thread, which will automatically call the run() method\n",
    "   my_thread.start()\n",
    "   ```\n",
    "\n",
    "2. `start()`: The `start()` method is used to start the execution of a thread. It initializes the thread, calls the `run()` method, and runs the thread in parallel with other threads in the program. When `start()` is called, a new thread is spawned, and the `run()` method of that thread is invoked.\n",
    "\n",
    "   Example usage:\n",
    "   ```python\n",
    "   import threading\n",
    "\n",
    "   def my_function():\n",
    "       # Perform specific actions or tasks here\n",
    "       print(\"Thread is running\")\n",
    "\n",
    "   # Create a thread object with target function\n",
    "   my_thread = threading.Thread(target=my_function)\n",
    "   # Start the thread\n",
    "   my_thread.start()\n",
    "   ```\n",
    "\n",
    "3. `join()`: The `join()` method is used to wait for a thread to complete its execution. When a thread is started, the main thread continues its execution without waiting for the new thread to finish. By calling `join()` on a thread, the main thread will pause and wait for that thread to finish before proceeding further.\n",
    "\n",
    "   Example usage:\n",
    "   ```python\n",
    "   import threading\n",
    "   import time\n",
    "\n",
    "   def my_function():\n",
    "       time.sleep(3)  # Simulate some task that takes time\n",
    "       print(\"Thread finished\")\n",
    "\n",
    "   my_thread = threading.Thread(target=my_function)\n",
    "   my_thread.start()\n",
    "   my_thread.join()  # Wait for the thread to finish before proceeding\n",
    "   print(\"Main thread resumed\")\n",
    "   ```\n",
    "\n",
    "4. `isAlive()`: The `isAlive()` method is used to check if a thread is currently alive and running. It returns `True` if the thread is active, meaning it has started and has not yet finished its execution, and `False` otherwise.\n",
    "\n",
    "   Example usage:\n",
    "   ```python\n",
    "   import threading\n",
    "   import time\n",
    "\n",
    "   def my_function():\n",
    "       time.sleep(3)  # Simulate some task that takes time\n",
    "\n",
    "   my_thread = threading.Thread(target=my_function)\n",
    "   my_thread.start()\n",
    "   print(my_thread.isAlive())  # Check if the thread is alive\n",
    "   ```\n",
    "\n",
    "These functions are fundamental for managing and controlling the execution of threads in Python, allowing you to define thread behavior, start threads, wait for threads to finish, and check their status."
   ]
  },
  {
   "cell_type": "markdown",
   "id": "51e69d06-6164-4fe5-8b3e-7e0ceb5b8ac5",
   "metadata": {},
   "source": [
    "4. write a python program to create two threads. Thread one must print the list of squares and thread\n",
    "two must print the list of cubes"
   ]
  },
  {
   "cell_type": "code",
   "execution_count": 1,
   "id": "53437a5f-e2b2-4106-99d3-6e4d34ccff32",
   "metadata": {},
   "outputs": [
    {
     "name": "stdout",
     "output_type": "stream",
     "text": [
      "List of squares: [1, 4, 9, 16, 25, 36, 49, 64, 81, 100]\n",
      "List of cubes: [1, 8, 27, 64, 125, 216, 343, 512, 729, 1000]\n",
      "Main thread exiting\n"
     ]
    }
   ],
   "source": [
    "import threading\n",
    "\n",
    "def print_squares():\n",
    "    squares = [x ** 2 for x in range(1, 11)]\n",
    "    print(\"List of squares:\", squares)\n",
    "\n",
    "def print_cubes():\n",
    "    cubes = [x ** 3 for x in range(1, 11)]\n",
    "    print(\"List of cubes:\", cubes)\n",
    "\n",
    "# Create the first thread for printing squares\n",
    "thread1 = threading.Thread(target=print_squares)\n",
    "\n",
    "# Create the second thread for printing cubes\n",
    "thread2 = threading.Thread(target=print_cubes)\n",
    "\n",
    "# Start both threads\n",
    "thread1.start()\n",
    "thread2.start()\n",
    "\n",
    "# Wait for both threads to finish\n",
    "thread1.join()\n",
    "thread2.join()\n",
    "\n",
    "print(\"Main thread exiting\")\n"
   ]
  },
  {
   "cell_type": "markdown",
   "id": "beeae382-1229-4a99-a069-50f0f977d065",
   "metadata": {},
   "source": [
    "5. State advantages and disadvantages of multithreading"
   ]
  },
  {
   "cell_type": "code",
   "execution_count": null,
   "id": "983929e9-7166-4b2a-9431-25f46ba2e8c0",
   "metadata": {},
   "outputs": [],
   "source": []
  },
  {
   "cell_type": "code",
   "execution_count": null,
   "id": "d44d12ed-7dab-4d2d-b33b-7bea3310bf2e",
   "metadata": {},
   "outputs": [],
   "source": []
  },
  {
   "cell_type": "code",
   "execution_count": null,
   "id": "4037e6b3-9cb5-40f6-8dc0-8f35a3c60763",
   "metadata": {},
   "outputs": [],
   "source": []
  },
  {
   "cell_type": "code",
   "execution_count": null,
   "id": "93854d77-9346-4d35-97b0-a66cc1d6c1c8",
   "metadata": {},
   "outputs": [],
   "source": []
  }
 ],
 "metadata": {
  "kernelspec": {
   "display_name": "Python 3 (ipykernel)",
   "language": "python",
   "name": "python3"
  },
  "language_info": {
   "codemirror_mode": {
    "name": "ipython",
    "version": 3
   },
   "file_extension": ".py",
   "mimetype": "text/x-python",
   "name": "python",
   "nbconvert_exporter": "python",
   "pygments_lexer": "ipython3",
   "version": "3.10.8"
  }
 },
 "nbformat": 4,
 "nbformat_minor": 5
}
